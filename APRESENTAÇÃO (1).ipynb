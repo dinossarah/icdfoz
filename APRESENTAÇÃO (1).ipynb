{
 "cells": [
  {
   "cell_type": "code",
   "execution_count": null,
   "metadata": {},
   "outputs": [],
   "source": [
    "# * A informação que você colocar aqui irá para a documentação gerada através do javadoc.\n",
    "# * @version 1.0 \n",
    "# * @FOZ - Universidade Federal de Alagoas\n",
    "#  *João Gabriel, Marcus Cezar, Sarah Melo, Verena Meirelles"
   ]
  },
  {
   "cell_type": "code",
   "execution_count": null,
   "metadata": {},
   "outputs": [],
   "source": [
    "#introdução:\n",
    "FONTE DOS DADOS:\n",
    "    -SEMARH\n",
    "    -http://pnqa.ana.gov.br/Qualiagua.aspx#"
   ]
  },
  {
   "cell_type": "code",
   "execution_count": null,
   "metadata": {},
   "outputs": [],
   "source": [
    "#Metodologia\n",
    "AVALIAÇÃO DE USO POR USUÁRIOS EXTERNOS:\n",
    "\t-Criação de um menu\n",
    "\t-Docstrings\n",
    "\t-Leia-me\n",
    "\t-Exemplos de preenchimento\n",
    "SEQUÊNCIA DE INFORMAÇÕES:\n",
    "\t-Sequência lógica para usuário seguir para o caminho que quiser durante o uso do programa\n",
    "\n",
    "BOAS PRÁTICAS DE PROGRAMAÇÃO:\n",
    "\tComentários\n",
    "\tExplicar o algoritmo ou a lógica usada, mostrando o objetivo de uma variável\n",
    "finalidade do mesmo; \n",
    "se irá retornar ou não alguma informação."
   ]
  },
  {
   "cell_type": "code",
   "execution_count": null,
   "metadata": {},
   "outputs": [],
   "source": [
    "O Programa de Estímulo à Divulgação de Dados de Qualidade de Água - QUALIÁGUA é uma iniciativa da ANA com os seguintes objetivos:\n",
    "\n",
    "1. Contribuir para a gestão sistemática dos recursos hídricos:\n",
    "    Divulgação de dados sobre a qualidade das águas superficiais no Brasil a toda a sociedade;\n",
    "2. Estimular a padronização dos critérios e métodos de monitoramento de qualidade de água no País, \n",
    "    Em acordo com as diretrizes estabelecidas na Resolução ANA nº 903/2013, para tornar essas informações comparáveis em nível nacional;\n",
    "    Legislação de lançamento de efluentes\n",
    "3. Contribuir para o fortalecimento e estruturação dos órgãos estaduais gestores de recursos hídricos \n",
    "    Monitoramento sistemático da qualidade das águas\n",
    "    Publicidade aos dados gerados;\n",
    "4. promover a implementação da Rede Nacional de Monitoramento da Qualidade das Águas - RNQA, \n",
    "    Programa Nacional de Avaliação da Qualidade das Águas - PNQA."
   ]
  },
  {
   "cell_type": "code",
   "execution_count": 12,
   "metadata": {},
   "outputs": [
    {
     "ename": "SyntaxError",
     "evalue": "invalid syntax (<ipython-input-12-471fe31ccd46>, line 1)",
     "output_type": "error",
     "traceback": [
      "\u001b[1;36m  File \u001b[1;32m\"<ipython-input-12-471fe31ccd46>\"\u001b[1;36m, line \u001b[1;32m1\u001b[0m\n\u001b[1;33m    Recorte por bacia:\u001b[0m\n\u001b[1;37m              ^\u001b[0m\n\u001b[1;31mSyntaxError\u001b[0m\u001b[1;31m:\u001b[0m invalid syntax\n"
     ]
    }
   ],
   "source": [
    "Recorte por bacia:\n",
    "Biblioteca para utilizar o shape:\n",
    "Geopandas"
   ]
  },
  {
   "cell_type": "code",
   "execution_count": 14,
   "metadata": {},
   "outputs": [
    {
     "ename": "IndentationError",
     "evalue": "expected an indented block (<ipython-input-14-83a8ebd0e472>, line 72)",
     "output_type": "error",
     "traceback": [
      "\u001b[1;36m  File \u001b[1;32m\"<ipython-input-14-83a8ebd0e472>\"\u001b[1;36m, line \u001b[1;32m72\u001b[0m\n\u001b[1;33m    \"\"\"\u001b[0m\n\u001b[1;37m        \n^\u001b[0m\n\u001b[1;31mIndentationError\u001b[0m\u001b[1;31m:\u001b[0m expected an indented block\n"
     ]
    }
   ],
   "source": [
    "#FUNÇÕES:\n",
    "dicionario = {}\n",
    "#_______________________________________________________________________________________________________________________________________________________________________\n",
    "\n",
    "def erro():\n",
    "    \"\"\"\n",
    "        Esta função retorna uma mensagem de erro caso o usuario digite uma entrada invalida.\n",
    "       ---------   ---------   ---------   ---------   ---------   ---------   ---------   ---------   ---------   ---------   ---------   ---------   ---------   \n",
    "       Parametros:\n",
    "         Esta funcao nao possui parametros, uma vez que apenas exibe a mensagem de erro, caso seja chamada.\n",
    "       ---------   ---------   ---------   ---------   ---------   ---------   ---------   ---------   ---------   ---------   ---------   ---------   ---------\n",
    "       Esta funcao retorna uma mensagem de erro.    \n",
    "    \"\"\"\n",
    "#_______________________________________________________________________________________________________________________________________________________________________\n",
    "\n",
    "def menu(entrada1):\n",
    "    \"\"\"\n",
    "        Esta função retorna o menu, para que o usuário possa acessa-lo quando necessario, nao tendo somente as funcoes expostas na apresentacao do programa.\n",
    "       Ela recebe a opcao do usuario e mostra as operacoes disponiveis.\n",
    "       ---------   ---------   ---------   ---------   ---------   ---------   ---------   ---------   ---------   ---------   ---------   ---------   ---------   \n",
    "       Parametros:\n",
    "       entrada1 = string\n",
    "                Na entrada, o usuário digita uma das funções disponíveis no programa (cadastro de informações, exibir relatorio, análise de dados, exibir mapa.\n",
    "                O usuario pode digita-las com letras maiusculas ou minusculas,contanto que estejam com a escrita correta, uma vez que as entradas sao convertidas para caixa alta.\n",
    "       ---------   ---------   ---------   ---------   ---------   ---------   ---------   ---------   ---------   ---------   ---------   ---------   ---------\n",
    "       Esta funcao nao retorna nenhum resultado alem dos prints de descricao das opcoes, apenas chama outras funcoes.    \n",
    "    \"\"\"\n",
    "#_______________________________________________________________________________________________________________________________________________________________________\n",
    "\n",
    "def cadastro():\n",
    "    \"\"\"\n",
    "        Esta função e a funcao de cadastro. Ela chama as funcoes de insercao de dados da estação, que sao:\n",
    "        dbo, dqo.\n",
    "            \n",
    "       ---------   ---------   ---------   ---------   ---------   ---------   ---------   ---------   ---------   ---------   ---------   ---------   ---------   \n",
    "       Parametros:\n",
    "       As entradas estao inseridas dentro das funcoes que compoe o cadastro.\n",
    "       ---------   ---------   ---------   ---------   ---------   ---------   ---------   ---------   ---------   ---------   ---------   ---------   ---------\n",
    "       Esta funcao nao retorna nenhum resultado alem dos prints de descricao das opcoes, apenas chama outras funcoes e cria um dicionario que contem outros dicionarios.\n",
    "       \n",
    "    \"\"\"\n",
    "\n",
    "#_______________________________________________________________________________________________________________________________________________________________________\n",
    "\n",
    "\n",
    "#-----------------------------------------------------------------------------------------------------------------------------------------------------------------------\n",
    "def situacao_agua(entrada1 ):\n",
    "    \n",
    "    \"\"\"\n",
    "        Esta funcao recebe a situacao da agua do imovel e a adiciona no dicionario. As opcoes sao 'ATENDE A LEGISLAÇÃO' e 'NÃO ATENDE'\n",
    "       ---------   ---------   ---------   ---------   ---------   ---------   ---------   ---------   ---------   ---------   ---------   ---------   ---------   \n",
    "       Parametros:\n",
    "       entrada1 = int\n",
    "                A funcao recebe a entrada do usuario (inteiros contendo opcoes especificadas num print previo, que contem todas as opcoes citadas acima e seus correspondentes\n",
    "                codigos de escolha), e insere a opcao escolhida no dicionario que tem a matricula como chave, onde os outros dados cadastrais estao inseridos.\n",
    "                Caso o usuario digite uma entrada invalida, a funcao e chamada ate que uma entrada valida seja inserida.\n",
    "       ---------   ---------   ---------   ---------   ---------   ---------   ---------   ---------   ---------   ---------   ---------   ---------   ---------\n",
    "       Esta funcao nao retorna nenhum resultado, apenas uma mensagem de erro caso o usuario digite uma entrada invalida. \n",
    "    \"\"\"  \n",
    "                   \n",
    "#-----------------------------------------------------------------------------------------------------------------------------------------------------------------------\n",
    "\n",
    "def exibir_relatorio_geral(entrada1):\n",
    "\"\"\"  \n",
    "        Essa função tem como objetivo exibir o relatório geral das estações.\n",
    "---------   ---------   ---------   ---------   ---------   ---------   ---------   ---------   ---------   ---------   ---------   ---------   ---------   \n",
    "       Parametros:\n",
    "       entrada1 = int\n",
    "                A única entrada dessa função refere-se ao setor onde a acao esta sendo executada.\n",
    "---------   ---------   ---------   ---------   ---------   ---------   ---------   ---------   ---------   ---------   ---------   ---------   ---------\n",
    "       Esta funcao retorna um print do relatório geral das estações, contendo todos os dados inseridos  e uma mensagem de erro caso o usuario digite uma entrada invalida. \n",
    "\"\"\" \n",
    "#_______________________________________________________________________________________________________________________________________________________________________\n",
    "def mapa (entrada1):\n",
    "\"\"\"  \n",
    "        Essa função tem como objetivo exibir o mapa das estações.\n",
    "---------   ---------   ---------   ---------   ---------   ---------   ---------   ---------   ---------   ---------   ---------   ---------   ---------   \n",
    "       Parametros:\n",
    "       entrada1 = int\n",
    "                A única entrada dessa função refere-se ao desejo de exibir ou não o mapa.\n",
    "---------   ---------   ---------   ---------   ---------   ---------   ---------   ---------   ---------   ---------   ---------   ---------   ---------\n",
    "       Esta funcao retorna um print do mapa. \n",
    "\"\"\"  \n",
    "#_______________________________________________________________________________________________________________________________________________________________________\n",
    "def analise(entrada1):\n",
    "def mapa (entrada1):\n",
    "\"\"\"  \n",
    "        Essa função tem como objetivo analisar se os dados estao atendendo a legislacao.\n",
    "---------   ---------   ---------   ---------   ---------   ---------   ---------   ---------   ---------   ---------   ---------   ---------   ---------   \n",
    "       Parametros:\n",
    "       entrada1 = int\n",
    "                A única entrada dessa função refere-se ao nome da estacao a ser analisada.\n",
    "---------   ---------   ---------   ---------   ---------   ---------   ---------   ---------   ---------   ---------   ---------   ---------   ---------\n",
    "       Esta funcao retorna um print com os dados da estacao, por dados de api. \n",
    "\"\"\"      "
   ]
  },
  {
   "cell_type": "code",
   "execution_count": null,
   "metadata": {},
   "outputs": [],
   "source": []
  }
 ],
 "metadata": {
  "kernelspec": {
   "display_name": "Python 3",
   "language": "python",
   "name": "python3"
  },
  "language_info": {
   "codemirror_mode": {
    "name": "ipython",
    "version": 3
   },
   "file_extension": ".py",
   "mimetype": "text/x-python",
   "name": "python",
   "nbconvert_exporter": "python",
   "pygments_lexer": "ipython3",
   "version": "3.7.3"
  }
 },
 "nbformat": 4,
 "nbformat_minor": 2
}
